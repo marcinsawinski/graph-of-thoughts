{
 "cells": [
  {
   "cell_type": "code",
   "execution_count": 1,
   "metadata": {},
   "outputs": [],
   "source": [
    "import json\n",
    "import os\n",
    "import matplotlib.pyplot as plt"
   ]
  },
  {
   "cell_type": "code",
   "execution_count": 2,
   "metadata": {},
   "outputs": [],
   "source": [
    "def get_complete_results(base_directory):\n",
    "    results_complete = {}\n",
    "    for folder_name in os.listdir(base_directory):\n",
    "        folder_path = os.path.join(base_directory, folder_name)\n",
    "        if os.path.isdir(folder_path):\n",
    "            results_complete[folder_name] = []\n",
    "            for file_name in os.listdir(folder_path):\n",
    "                if file_name.endswith(\".json\"):\n",
    "                    file_path = os.path.join(folder_path, file_name)\n",
    "                    with open(file_path, \"r\") as f:\n",
    "                        data = json.load(f)\n",
    "                        results_complete[folder_name].append(\n",
    "                            {\"key\": int(file_name.split(\".\")[0]), \"data\": data}\n",
    "                        )\n",
    "        for key in results_complete.keys():\n",
    "            results_complete[key] = sorted(\n",
    "                results_complete[key], key=lambda x: x[\"key\"]\n",
    "            )\n",
    "    return results_complete\n",
    "\n",
    "\n",
    "def get_final_scores(results_complete):\n",
    "    scores = {}\n",
    "    for method in results_complete.keys():\n",
    "        scores[method] = []\n",
    "        for result in results_complete[method]:\n",
    "            score = 100\n",
    "            solved = False\n",
    "            cost = 1\n",
    "            prompt_tokens = 0\n",
    "            completion_tokens = 0\n",
    "            for op in result[\"data\"]:\n",
    "                if \"operation\" in op and op[\"operation\"] == \"ground_truth_evaluator\":\n",
    "                    try:\n",
    "                        score = min(op[\"scores\"])\n",
    "                        solved = any(op[\"problem_solved\"])\n",
    "                    except:\n",
    "                        continue\n",
    "                if \"cost\" in op:\n",
    "                    cost = op[\"cost\"]\n",
    "                    prompt_tokens = op[\"prompt_tokens\"]\n",
    "                    completion_tokens = op[\"completion_tokens\"]\n",
    "            scores[method].append(\n",
    "                [result[\"key\"], score, solved, prompt_tokens, completion_tokens, cost]\n",
    "            )\n",
    "        scores[method] = sorted(scores[method], key=lambda x: x[0])\n",
    "    return scores\n",
    "\n",
    "\n",
    "def get_plotting_data(base_directory):\n",
    "    results_complete = get_complete_results(base_directory)\n",
    "    scores = get_final_scores(results_complete)\n",
    "    results_plotting = {\n",
    "        method: {\n",
    "            \"scores\": [x[1] for x in scores[method]],\n",
    "            \"solved\": sum([1 for x in scores[method] if x[2]]),\n",
    "            \"costs\": [x[5] for x in scores[method]],\n",
    "        }\n",
    "        for method in scores.keys()\n",
    "    }\n",
    "    return results_plotting\n",
    "\n",
    "\n",
    "def plot_results(\n",
    "    results,\n",
    "    methods_order=[\"io\", \"cot\", \"tot\", \"tot2\", \"got\"],\n",
    "    model=\"GPT-3.5\",\n",
    "    length=32,\n",
    "    y_lower=0,\n",
    "    cost_upper=0.0,\n",
    "    display_solved=True,\n",
    "    annotation_offset=0,\n",
    "    display_left_ylabel=False,\n",
    "    display_right_ylabel=False,\n",
    "):\n",
    "    methods_order = [method for method in methods_order if method in results]\n",
    "    # Extract scores based on the order\n",
    "    scores_ordered = [\n",
    "        [\n",
    "            min(score, length)\n",
    "            for score in results[method][\"scores\"]\n",
    "            if score != 100 and score != 300\n",
    "        ]\n",
    "        for method in methods_order\n",
    "    ]\n",
    "    total_costs = [sum(results[method][\"costs\"]) for method in methods_order]\n",
    "\n",
    "    # Create figure and axis\n",
    "    fig, ax = plt.subplots(dpi=150, figsize=(2.5, 5))\n",
    "\n",
    "    # Create boxplots\n",
    "    positions = range(1, len(methods_order) + 1)\n",
    "    ax.boxplot(scores_ordered, positions=positions)\n",
    "\n",
    "    fig_fontsize = 12\n",
    "\n",
    "    # Set the ticks and labels\n",
    "    method_labels = [\"IO\", \"CoT\", \"ToT\", \"ToT2\", \"GoT\"]\n",
    "    plt.yticks(fontsize=fig_fontsize)\n",
    "    ax.set_xticks(range(1, len(methods_order) + 1))\n",
    "    ax.set_xticks(range(1, len(methods_order) + 1))\n",
    "    ax.set_xticklabels(method_labels, fontsize=fig_fontsize)\n",
    "\n",
    "    y_upper = length\n",
    "\n",
    "    range_increase = 1\n",
    "    if display_solved:\n",
    "        if length < 48:\n",
    "            range_increase = 2\n",
    "        elif length < 96:\n",
    "            range_increase = 4\n",
    "        else:\n",
    "            range_increase = 8\n",
    "\n",
    "    ax.set_ylim(y_lower, y_upper + range_increase)\n",
    "    ax1_yticks = range(\n",
    "        y_lower, y_upper + 1, 2 if length < 48 else (4 if length < 96 else 8)\n",
    "    )\n",
    "    ax.set_yticks(ax1_yticks)\n",
    "    if display_left_ylabel:\n",
    "        ax.set_ylabel(f\"#incorrectly sorted elements; the lower the better\")\n",
    "\n",
    "    ax.set_title(f\"{length} elements\")\n",
    "\n",
    "    ax2 = ax.twinx()\n",
    "    ax2.bar(positions, total_costs, alpha=0.5, color=\"blue\", label=\"Total Cost ($)\")\n",
    "    ax2.yaxis.set_tick_params(colors=\"#1919ff\", labelsize=fig_fontsize)\n",
    "    if cost_upper > 0:\n",
    "        ax2.set_ylim(0, cost_upper)\n",
    "        number_of_ticks = len(ax.get_yticks())\n",
    "        tick_interval = cost_upper / (number_of_ticks)\n",
    "        ax2_ticks = [tick_interval * i for i in range(number_of_ticks)]\n",
    "\n",
    "        # Set custom tick positions for ax2\n",
    "        ax2.set_yticks(ax2_ticks)\n",
    "\n",
    "    if display_right_ylabel:\n",
    "        ax2.set_ylabel(\n",
    "            \"Total Cost ($); the lower the better\",\n",
    "            color=\"#1919ff\",\n",
    "            fontsize=fig_fontsize,\n",
    "        )\n",
    "\n",
    "    if display_solved:\n",
    "        annotation_height = y_upper + annotation_offset\n",
    "        count = 1\n",
    "        for method in methods_order:\n",
    "            if method not in results:\n",
    "                continue\n",
    "            solved = results[method][\"solved\"]\n",
    "            ax.text(\n",
    "                count,\n",
    "                annotation_height,\n",
    "                f\"{solved}\",\n",
    "                ha=\"center\",\n",
    "                va=\"bottom\",\n",
    "                fontsize=fig_fontsize,\n",
    "            )\n",
    "            count += 1\n",
    "\n",
    "    model = model.replace(\".\", \"\").replace(\"-\", \"\").lower()\n",
    "    fig.savefig(f\"sorting_{model}_{length}.pdf\", bbox_inches=\"tight\")"
   ]
  },
  {
   "cell_type": "code",
   "execution_count": 4,
   "metadata": {},
   "outputs": [],
   "source": [
    "import os"
   ]
  },
  {
   "cell_type": "code",
   "execution_count": 5,
   "metadata": {},
   "outputs": [
    {
     "data": {
      "text/plain": [
       "'/Users/marcinsawinski/Documents/GitHub/graph-of-thoughts/examples/sorting'"
      ]
     },
     "execution_count": 5,
     "metadata": {},
     "output_type": "execute_result"
    }
   ],
   "source": [
    "os.getcwd()"
   ]
  },
  {
   "cell_type": "code",
   "execution_count": 12,
   "metadata": {},
   "outputs": [],
   "source": [
    "results_complete = get_complete_results(\"/Users/marcinsawinski/Documents/GitHub/graph-of-thoughts/examples/sorting/results/\")\n",
    "scores = get_final_scores(results_complete)\n",
    "results_plotting = {\n",
    "    method: {\n",
    "        \"scores\": [x[1] for x in scores[method]],\n",
    "        \"solved\": sum([1 for x in scores[method] if x[2]]),\n",
    "        \"costs\": [x[5] for x in scores[method]],\n",
    "    }\n",
    "    for method in scores.keys()\n",
    "}\n"
   ]
  },
  {
   "cell_type": "code",
   "execution_count": 13,
   "metadata": {},
   "outputs": [
    {
     "data": {
      "text/plain": [
       "{'azurechatgpt_io-cot-tot-tot2-got_2023-10-14_20-51-14': []}"
      ]
     },
     "execution_count": 13,
     "metadata": {},
     "output_type": "execute_result"
    }
   ],
   "source": [
    "results_complete"
   ]
  },
  {
   "cell_type": "code",
   "execution_count": 35,
   "metadata": {},
   "outputs": [
    {
     "name": "stdout",
     "output_type": "stream",
     "text": [
      "folder_path:  /Users/marcinsawinski/Documents/GitHub/graph-of-thoughts/examples/sorting/results/azurechatgpt_io-cot-tot-tot2-got_2023-10-14_20-51-14/log.log\n",
      "folder_path:  /Users/marcinsawinski/Documents/GitHub/graph-of-thoughts/examples/sorting/results/azurechatgpt_io-cot-tot-tot2-got_2023-10-14_20-51-14/io\n",
      "/Users/marcinsawinski/Documents/GitHub/graph-of-thoughts/examples/sorting/results/azurechatgpt_io-cot-tot-tot2-got_2023-10-14_20-51-14/io/0.json\n",
      "/Users/marcinsawinski/Documents/GitHub/graph-of-thoughts/examples/sorting/results/azurechatgpt_io-cot-tot-tot2-got_2023-10-14_20-51-14/io/1.json\n",
      "/Users/marcinsawinski/Documents/GitHub/graph-of-thoughts/examples/sorting/results/azurechatgpt_io-cot-tot-tot2-got_2023-10-14_20-51-14/io/2.json\n",
      "folder_path:  /Users/marcinsawinski/Documents/GitHub/graph-of-thoughts/examples/sorting/results/azurechatgpt_io-cot-tot-tot2-got_2023-10-14_20-51-14/got\n",
      "/Users/marcinsawinski/Documents/GitHub/graph-of-thoughts/examples/sorting/results/azurechatgpt_io-cot-tot-tot2-got_2023-10-14_20-51-14/got/0.json\n",
      "/Users/marcinsawinski/Documents/GitHub/graph-of-thoughts/examples/sorting/results/azurechatgpt_io-cot-tot-tot2-got_2023-10-14_20-51-14/got/1.json\n",
      "/Users/marcinsawinski/Documents/GitHub/graph-of-thoughts/examples/sorting/results/azurechatgpt_io-cot-tot-tot2-got_2023-10-14_20-51-14/got/2.json\n",
      "folder_path:  /Users/marcinsawinski/Documents/GitHub/graph-of-thoughts/examples/sorting/results/azurechatgpt_io-cot-tot-tot2-got_2023-10-14_20-51-14/cot\n",
      "/Users/marcinsawinski/Documents/GitHub/graph-of-thoughts/examples/sorting/results/azurechatgpt_io-cot-tot-tot2-got_2023-10-14_20-51-14/cot/0.json\n",
      "/Users/marcinsawinski/Documents/GitHub/graph-of-thoughts/examples/sorting/results/azurechatgpt_io-cot-tot-tot2-got_2023-10-14_20-51-14/cot/1.json\n",
      "/Users/marcinsawinski/Documents/GitHub/graph-of-thoughts/examples/sorting/results/azurechatgpt_io-cot-tot-tot2-got_2023-10-14_20-51-14/cot/2.json\n",
      "folder_path:  /Users/marcinsawinski/Documents/GitHub/graph-of-thoughts/examples/sorting/results/azurechatgpt_io-cot-tot-tot2-got_2023-10-14_20-51-14/config.jsonx\n",
      "folder_path:  /Users/marcinsawinski/Documents/GitHub/graph-of-thoughts/examples/sorting/results/azurechatgpt_io-cot-tot-tot2-got_2023-10-14_20-51-14/tot\n",
      "/Users/marcinsawinski/Documents/GitHub/graph-of-thoughts/examples/sorting/results/azurechatgpt_io-cot-tot-tot2-got_2023-10-14_20-51-14/tot/0.json\n",
      "/Users/marcinsawinski/Documents/GitHub/graph-of-thoughts/examples/sorting/results/azurechatgpt_io-cot-tot-tot2-got_2023-10-14_20-51-14/tot/1.json\n",
      "/Users/marcinsawinski/Documents/GitHub/graph-of-thoughts/examples/sorting/results/azurechatgpt_io-cot-tot-tot2-got_2023-10-14_20-51-14/tot/2.json\n",
      "folder_path:  /Users/marcinsawinski/Documents/GitHub/graph-of-thoughts/examples/sorting/results/azurechatgpt_io-cot-tot-tot2-got_2023-10-14_20-51-14/tot2\n",
      "/Users/marcinsawinski/Documents/GitHub/graph-of-thoughts/examples/sorting/results/azurechatgpt_io-cot-tot-tot2-got_2023-10-14_20-51-14/tot2/0.json\n",
      "/Users/marcinsawinski/Documents/GitHub/graph-of-thoughts/examples/sorting/results/azurechatgpt_io-cot-tot-tot2-got_2023-10-14_20-51-14/tot2/1.json\n",
      "/Users/marcinsawinski/Documents/GitHub/graph-of-thoughts/examples/sorting/results/azurechatgpt_io-cot-tot-tot2-got_2023-10-14_20-51-14/tot2/2.json\n"
     ]
    }
   ],
   "source": [
    "base_directory = \"/Users/marcinsawinski/Documents/GitHub/graph-of-thoughts/examples/sorting/results/azurechatgpt_io-cot-tot-tot2-got_2023-10-14_20-51-14\"\n",
    "results_complete = {}\n",
    "for folder_name in os.listdir(base_directory):\n",
    "    folder_path = os.path.join(base_directory, folder_name)\n",
    "    print('folder_path: ',folder_path)\n",
    "    if os.path.isdir(folder_path):\n",
    "        results_complete[folder_name] = []\n",
    "        for file_name in os.listdir(folder_path):\n",
    "            if file_name.endswith(\".json\"):\n",
    "                file_path = os.path.join(folder_path, file_name)\n",
    "                print(file_path)\n",
    "                with open(file_path, \"r\") as f:\n",
    "                    data = json.load(f)\n",
    "                    results_complete[folder_name].append(\n",
    "                        {\"key\": int(file_name.split(\".\")[0]), \"data\": data}\n",
    "                    )\n",
    "    for key in results_complete.keys():\n",
    "        results_complete[key] = sorted(\n",
    "            results_complete[key], key=lambda x: x[\"key\"]\n",
    "        )"
   ]
  },
  {
   "cell_type": "code",
   "execution_count": 34,
   "metadata": {},
   "outputs": [
    {
     "data": {
      "text/plain": [
       "['azurechatgpt_io-cot-tot-tot2-got_2023-10-14_20-51-14']"
      ]
     },
     "execution_count": 34,
     "metadata": {},
     "output_type": "execute_result"
    }
   ],
   "source": [
    "os.listdir(base_directory)"
   ]
  },
  {
   "cell_type": "code",
   "execution_count": 31,
   "metadata": {},
   "outputs": [
    {
     "ename": "FileNotFoundError",
     "evalue": "[Errno 2] No such file or directory: 'results/got/'",
     "output_type": "error",
     "traceback": [
      "\u001b[0;31m---------------------------------------------------------------------------\u001b[0m",
      "\u001b[0;31mFileNotFoundError\u001b[0m                         Traceback (most recent call last)",
      "\u001b[1;32m/Users/marcinsawinski/Documents/GitHub/graph-of-thoughts/examples/sorting/plot.ipynb Cell 8\u001b[0m line \u001b[0;36m1\n\u001b[0;32m----> <a href='vscode-notebook-cell:/Users/marcinsawinski/Documents/GitHub/graph-of-thoughts/examples/sorting/plot.ipynb#X20sZmlsZQ%3D%3D?line=0'>1</a>\u001b[0m os\u001b[39m.\u001b[39;49mlistdir(base_directory)\n",
      "\u001b[0;31mFileNotFoundError\u001b[0m: [Errno 2] No such file or directory: 'results/got/'"
     ]
    }
   ],
   "source": [
    "os.listdir(base_directory)"
   ]
  },
  {
   "cell_type": "code",
   "execution_count": 28,
   "metadata": {},
   "outputs": [
    {
     "data": {
      "text/plain": [
       "['log.log', 'io', 'got', 'cot', 'config.jsonx', 'tot', 'tot2']"
      ]
     },
     "execution_count": 28,
     "metadata": {},
     "output_type": "execute_result"
    }
   ],
   "source": [
    "os.listdir(folder_path)"
   ]
  },
  {
   "cell_type": "code",
   "execution_count": 24,
   "metadata": {},
   "outputs": [
    {
     "data": {
      "text/plain": [
       "'azurechatgpt_io-cot-tot-tot2-got_2023-10-14_20-51-14'"
      ]
     },
     "execution_count": 24,
     "metadata": {},
     "output_type": "execute_result"
    }
   ],
   "source": [
    "folder_name"
   ]
  },
  {
   "cell_type": "code",
   "execution_count": 21,
   "metadata": {},
   "outputs": [
    {
     "data": {
      "text/plain": [
       "'/Users/marcinsawinski/Documents/GitHub/graph-of-thoughts/examples/sorting'"
      ]
     },
     "execution_count": 21,
     "metadata": {},
     "output_type": "execute_result"
    }
   ],
   "source": [
    "os.getcwd()"
   ]
  },
  {
   "cell_type": "code",
   "execution_count": 22,
   "metadata": {},
   "outputs": [
    {
     "data": {
      "text/plain": [
       "'/Users/marcinsawinski/Documents/GitHub/graph-of-thoughts/examples/sorting/results/azurechatgpt_io-cot-tot-tot2-got_2023-10-14_20-51-14'"
      ]
     },
     "execution_count": 22,
     "metadata": {},
     "output_type": "execute_result"
    }
   ],
   "source": [
    "folder_path"
   ]
  },
  {
   "cell_type": "code",
   "execution_count": 20,
   "metadata": {},
   "outputs": [
    {
     "data": {
      "text/plain": [
       "'azurechatgpt_io-cot-tot-tot2-got_2023-10-14_20-51-14'"
      ]
     },
     "execution_count": 20,
     "metadata": {},
     "output_type": "execute_result"
    }
   ],
   "source": [
    "folder_name"
   ]
  },
  {
   "cell_type": "code",
   "execution_count": 15,
   "metadata": {},
   "outputs": [
    {
     "data": {
      "text/plain": [
       "{'azurechatgpt_io-cot-tot-tot2-got_2023-10-14_20-51-14': []}"
      ]
     },
     "execution_count": 15,
     "metadata": {},
     "output_type": "execute_result"
    }
   ],
   "source": [
    "results_complete"
   ]
  },
  {
   "cell_type": "code",
   "execution_count": 36,
   "metadata": {},
   "outputs": [
    {
     "data": {
      "image/png": "[encoded data removed]",
      "text/plain": [
       "<Figure size 375x750 with 2 Axes>"
      ]
     },
     "metadata": {},
     "output_type": "display_data"
    }
   ],
   "source": [
    "plot_results(\n",
    "    get_plotting_data(\"results/azurechatgpt_io-cot-tot-tot2-got_2023-10-14_20-51-14\"),\n",
    "    length=32,\n",
    "    display_solved=True,\n",
    "    model=\"GPT-3.5\",\n",
    "    display_left_ylabel=True,\n",
    "    display_right_ylabel=True,\n",
    ")"
   ]
  }
 ],
 "metadata": {
  "kernelspec": {
   "display_name": "llm_explore",
   "language": "python",
   "name": "python3"
  },
  "language_info": {
   "codemirror_mode": {
    "name": "ipython",
    "version": 3
   },
   "file_extension": ".py",
   "mimetype": "text/x-python",
   "name": "python",
   "nbconvert_exporter": "python",
   "pygments_lexer": "ipython3",
   "version": "3.11.5"
  }
 },
 "nbformat": 4,
 "nbformat_minor": 2
}
